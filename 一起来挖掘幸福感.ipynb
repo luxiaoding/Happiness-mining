{
 "cells": [
  {
   "cell_type": "code",
   "execution_count": 69,
   "metadata": {},
   "outputs": [],
   "source": [
    "import pandas as pd\n",
    "import numpy as np\n",
    "from collections import Counter\n",
    "import matplotlib.pyplot as plt\n",
    "import seaborn as sns"
   ]
  },
  {
   "cell_type": "code",
   "execution_count": 70,
   "metadata": {},
   "outputs": [
    {
     "name": "stdout",
     "output_type": "stream",
     "text": [
      "8000\n"
     ]
    },
    {
     "data": {
      "text/plain": [
       "<matplotlib.axes._subplots.AxesSubplot at 0x2dab7da6278>"
      ]
     },
     "execution_count": 70,
     "metadata": {},
     "output_type": "execute_result"
    },
    {
     "data": {
      "image/png": "[encoded data removed]",
      "text/plain": [
       "<Figure size 432x288 with 1 Axes>"
      ]
     },
     "metadata": {
      "needs_background": "light"
     },
     "output_type": "display_data"
    }
   ],
   "source": [
    "# 处理幸福度 这是分类的tag 需要独立出来 \n",
    "df_train = pd.read_csv(\"happiness_train_complete.csv\",encoding=\"ansi\")\n",
    "\n",
    "df_test = pd.read_csv(\"happiness_test_complete.csv\",encoding=\"ansi\")\n",
    "\n",
    "print(len(df_train))\n",
    "\n",
    "y_train = df_train['happiness']\n",
    "y_train = y_train.map(lambda x:3 if x==-8 else x)\n",
    "# y_train.plot.hist()\n",
    "sns.countplot(x='happiness', data=df_train)\n",
    "### 现在这个年龄划分 以及收入等级划分 都是好的 不用改了 "
   ]
  },
  {
   "cell_type": "code",
   "execution_count": 3,
   "metadata": {},
   "outputs": [],
   "source": [
    "df_train.drop([\"happiness\"],axis=1,inplace=True)\n",
    "# 合并在一起方便处理 训练集和测试集\n",
    "df_all = pd.concat((df_train,df_test),axis=0)"
   ]
  },
  {
   "cell_type": "code",
   "execution_count": 4,
   "metadata": {},
   "outputs": [
    {
     "data": {
      "text/html": [
       "<div>\n",
       "<style scoped>\n",
       "    .dataframe tbody tr th:only-of-type {\n",
       "        vertical-align: middle;\n",
       "    }\n",
       "\n",
       "    .dataframe tbody tr th {\n",
       "        vertical-align: top;\n",
       "    }\n",
       "\n",
       "    .dataframe thead th {\n",
       "        text-align: right;\n",
       "    }\n",
       "</style>\n",
       "<table border=\"1\" class=\"dataframe\">\n",
       "  <thead>\n",
       "    <tr style=\"text-align: right;\">\n",
       "      <th></th>\n",
       "      <th>total</th>\n",
       "      <th>percent</th>\n",
       "    </tr>\n",
       "  </thead>\n",
       "  <tbody>\n",
       "    <tr>\n",
       "      <th>edu_other</th>\n",
       "      <td>10962</td>\n",
       "      <td>0.999453</td>\n",
       "    </tr>\n",
       "    <tr>\n",
       "      <th>invest_other</th>\n",
       "      <td>10923</td>\n",
       "      <td>0.995897</td>\n",
       "    </tr>\n",
       "    <tr>\n",
       "      <th>property_other</th>\n",
       "      <td>10879</td>\n",
       "      <td>0.991885</td>\n",
       "    </tr>\n",
       "    <tr>\n",
       "      <th>join_party</th>\n",
       "      <td>9842</td>\n",
       "      <td>0.897338</td>\n",
       "    </tr>\n",
       "    <tr>\n",
       "      <th>s_work_type</th>\n",
       "      <td>7444</td>\n",
       "      <td>0.678702</td>\n",
       "    </tr>\n",
       "    <tr>\n",
       "      <th>s_work_status</th>\n",
       "      <td>7444</td>\n",
       "      <td>0.678702</td>\n",
       "    </tr>\n",
       "    <tr>\n",
       "      <th>work_status</th>\n",
       "      <td>6939</td>\n",
       "      <td>0.632659</td>\n",
       "    </tr>\n",
       "    <tr>\n",
       "      <th>work_yr</th>\n",
       "      <td>6939</td>\n",
       "      <td>0.632659</td>\n",
       "    </tr>\n",
       "    <tr>\n",
       "      <th>work_manage</th>\n",
       "      <td>6938</td>\n",
       "      <td>0.632567</td>\n",
       "    </tr>\n",
       "    <tr>\n",
       "      <th>work_type</th>\n",
       "      <td>6938</td>\n",
       "      <td>0.632567</td>\n",
       "    </tr>\n",
       "    <tr>\n",
       "      <th>edu_yr</th>\n",
       "      <td>2756</td>\n",
       "      <td>0.251276</td>\n",
       "    </tr>\n",
       "    <tr>\n",
       "      <th>marital_now</th>\n",
       "      <td>2447</td>\n",
       "      <td>0.223104</td>\n",
       "    </tr>\n",
       "    <tr>\n",
       "      <th>s_political</th>\n",
       "      <td>2367</td>\n",
       "      <td>0.215810</td>\n",
       "    </tr>\n",
       "    <tr>\n",
       "      <th>s_hukou</th>\n",
       "      <td>2367</td>\n",
       "      <td>0.215810</td>\n",
       "    </tr>\n",
       "    <tr>\n",
       "      <th>s_income</th>\n",
       "      <td>2367</td>\n",
       "      <td>0.215810</td>\n",
       "    </tr>\n",
       "    <tr>\n",
       "      <th>s_birth</th>\n",
       "      <td>2367</td>\n",
       "      <td>0.215810</td>\n",
       "    </tr>\n",
       "    <tr>\n",
       "      <th>s_edu</th>\n",
       "      <td>2367</td>\n",
       "      <td>0.215810</td>\n",
       "    </tr>\n",
       "    <tr>\n",
       "      <th>s_work_exper</th>\n",
       "      <td>2367</td>\n",
       "      <td>0.215810</td>\n",
       "    </tr>\n",
       "    <tr>\n",
       "      <th>edu_status</th>\n",
       "      <td>1569</td>\n",
       "      <td>0.143053</td>\n",
       "    </tr>\n",
       "    <tr>\n",
       "      <th>minor_child</th>\n",
       "      <td>1448</td>\n",
       "      <td>0.132020</td>\n",
       "    </tr>\n",
       "    <tr>\n",
       "      <th>marital_1st</th>\n",
       "      <td>1129</td>\n",
       "      <td>0.102936</td>\n",
       "    </tr>\n",
       "    <tr>\n",
       "      <th>social_friend</th>\n",
       "      <td>1097</td>\n",
       "      <td>0.100018</td>\n",
       "    </tr>\n",
       "    <tr>\n",
       "      <th>social_neighbor</th>\n",
       "      <td>1097</td>\n",
       "      <td>0.100018</td>\n",
       "    </tr>\n",
       "    <tr>\n",
       "      <th>hukou_loc</th>\n",
       "      <td>4</td>\n",
       "      <td>0.000365</td>\n",
       "    </tr>\n",
       "    <tr>\n",
       "      <th>family_income</th>\n",
       "      <td>1</td>\n",
       "      <td>0.000091</td>\n",
       "    </tr>\n",
       "  </tbody>\n",
       "</table>\n",
       "</div>"
      ],
      "text/plain": [
       "                 total   percent\n",
       "edu_other        10962  0.999453\n",
       "invest_other     10923  0.995897\n",
       "property_other   10879  0.991885\n",
       "join_party        9842  0.897338\n",
       "s_work_type       7444  0.678702\n",
       "s_work_status     7444  0.678702\n",
       "work_status       6939  0.632659\n",
       "work_yr           6939  0.632659\n",
       "work_manage       6938  0.632567\n",
       "work_type         6938  0.632567\n",
       "edu_yr            2756  0.251276\n",
       "marital_now       2447  0.223104\n",
       "s_political       2367  0.215810\n",
       "s_hukou           2367  0.215810\n",
       "s_income          2367  0.215810\n",
       "s_birth           2367  0.215810\n",
       "s_edu             2367  0.215810\n",
       "s_work_exper      2367  0.215810\n",
       "edu_status        1569  0.143053\n",
       "minor_child       1448  0.132020\n",
       "marital_1st       1129  0.102936\n",
       "social_friend     1097  0.100018\n",
       "social_neighbor   1097  0.100018\n",
       "hukou_loc            4  0.000365\n",
       "family_income        1  0.000091"
      ]
     },
     "execution_count": 4,
     "metadata": {},
     "output_type": "execute_result"
    }
   ],
   "source": [
    "\n",
    "total = df_all.isnull().sum().sort_values(ascending=False)\n",
    "percent = (df_all.isnull().sum()/df_all.isnull().count()).sort_values(ascending=False)\n",
    "missing_data = pd.concat([total,percent], axis=1, keys=['total', 'percent'])\n",
    "missing_data[missing_data['percent']>0]"
   ]
  },
  {
   "cell_type": "markdown",
   "metadata": {},
   "source": [
    "# 一、数据处理"
   ]
  },
  {
   "cell_type": "code",
   "execution_count": 5,
   "metadata": {},
   "outputs": [],
   "source": [
    "# 将缺失值超过60%的属性删除掉 没有意义\n",
    "# 删除 一些缺失比例大的特征 在这里 党员被删除 \n",
    "df_all.drop( ['edu_other','invest_other','property_other','join_party',\n",
    "              's_work_type','s_work_status','work_status',\n",
    "              'work_yr','work_manage','work_type',],axis=1,inplace=True)\n",
    "# # 试着对党员进行处理 党员的觉悟一般都高一些  \n",
    "# df_all['join_party'].fillna(0,inplace=True)\n",
    "# df_all['join_party'] = df_all['join_party'].map(lambda x:0 if x<=0 else x)"
   ]
  },
  {
   "cell_type": "code",
   "execution_count": 6,
   "metadata": {},
   "outputs": [],
   "source": [
    "#全部缺失值填充为0 因为这些缺失值是因为没有结婚而导致的\n",
    "df_all['s_political'].fillna(0,inplace=True)\n",
    "df_all['s_hukou'].fillna(0,inplace=True)\n",
    "df_all['s_income'].fillna(0,inplace=True)\n",
    "df_all['s_birth'].fillna(0,inplace=True)\n",
    "df_all['s_edu'].fillna(0,inplace=True)     \n",
    "df_all['s_work_exper'].fillna(0,inplace=True)\n"
   ]
  },
  {
   "cell_type": "code",
   "execution_count": 7,
   "metadata": {},
   "outputs": [],
   "source": [
    "#缺失值是由于没有受过教育造成的\n",
    "#全部缺失值填充为0\n",
    "df_all['edu_status'].fillna(0,inplace=True)\n",
    "df_all['edu_yr'].fillna(0,inplace=True)\n"
   ]
  },
  {
   "cell_type": "code",
   "execution_count": 8,
   "metadata": {},
   "outputs": [
    {
     "name": "stdout",
     "output_type": "stream",
     "text": [
      "10968\n"
     ]
    }
   ],
   "source": [
    "#社交情况\n",
    "#缺失值是由于社交不频繁造成的\n",
    "#全部缺失值填充为7\n",
    "df_all['social_friend'].fillna(7,inplace=True)\n",
    "df_all['social_neighbor'].fillna(7,inplace=True)\n",
    "print(len(df_all))"
   ]
  },
  {
   "cell_type": "code",
   "execution_count": 9,
   "metadata": {},
   "outputs": [
    {
     "name": "stdout",
     "output_type": "stream",
     "text": [
      "10968\n"
     ]
    }
   ],
   "source": [
    "# 孩子情况\n",
    "#全部填充为0,因为没有孩子\n",
    "df_all['minor_child'].fillna(0,inplace=True)\n",
    "print(len(df_all))"
   ]
  },
  {
   "cell_type": "code",
   "execution_count": 10,
   "metadata": {},
   "outputs": [],
   "source": [
    "# 户口情况\n",
    "#缺失值是由于没有户口造成的\n",
    "#全部缺失值填充为4\n",
    "df_all['hukou_loc'].fillna(4,inplace=True)"
   ]
  },
  {
   "cell_type": "code",
   "execution_count": 11,
   "metadata": {},
   "outputs": [],
   "source": [
    "# 婚姻情况\n",
    "df_all['marital_now'].fillna(2015,inplace=True) \n",
    "df_all['marital_1st'].fillna(2015,inplace=True)"
   ]
  },
  {
   "cell_type": "code",
   "execution_count": 12,
   "metadata": {},
   "outputs": [],
   "source": [
    "# 家庭收入\n",
    "#训练集中的family_income只有一条空记录，用平均值填充\n",
    "df_all['family_income'].fillna(df_all['family_income'].mean(),inplace=True)"
   ]
  },
  {
   "cell_type": "code",
   "execution_count": 13,
   "metadata": {},
   "outputs": [
    {
     "data": {
      "text/html": [
       "<div>\n",
       "<style scoped>\n",
       "    .dataframe tbody tr th:only-of-type {\n",
       "        vertical-align: middle;\n",
       "    }\n",
       "\n",
       "    .dataframe tbody tr th {\n",
       "        vertical-align: top;\n",
       "    }\n",
       "\n",
       "    .dataframe thead th {\n",
       "        text-align: right;\n",
       "    }\n",
       "</style>\n",
       "<table border=\"1\" class=\"dataframe\">\n",
       "  <thead>\n",
       "    <tr style=\"text-align: right;\">\n",
       "      <th></th>\n",
       "      <th>total</th>\n",
       "      <th>percent</th>\n",
       "    </tr>\n",
       "  </thead>\n",
       "  <tbody>\n",
       "  </tbody>\n",
       "</table>\n",
       "</div>"
      ],
      "text/plain": [
       "Empty DataFrame\n",
       "Columns: [total, percent]\n",
       "Index: []"
      ]
     },
     "execution_count": 13,
     "metadata": {},
     "output_type": "execute_result"
    }
   ],
   "source": [
    "#最后再来验证一下处理结果\n",
    "total = df_all.isnull().sum().sort_values(ascending=False)\n",
    "percent = (df_all.isnull().sum()/df_all.isnull().count()).sort_values(ascending=False)\n",
    "missing_data = pd.concat([total, percent], axis=1, keys=['total', 'percent'])\n",
    "missing_data[missing_data['percent']>0]"
   ]
  },
  {
   "cell_type": "markdown",
   "metadata": {},
   "source": [
    "# 二 特征处理"
   ]
  },
  {
   "cell_type": "code",
   "execution_count": 14,
   "metadata": {},
   "outputs": [
    {
     "data": {
      "text/plain": [
       "<matplotlib.axes._subplots.AxesSubplot at 0x2dab74ef160>"
      ]
     },
     "execution_count": 14,
     "metadata": {},
     "output_type": "execute_result"
    },
    {
     "data": {
      "image/png": "[encoded data removed]",
      "text/plain": [
       "<Figure size 432x288 with 1 Axes>"
      ]
     },
     "metadata": {
      "needs_background": "light"
     },
     "output_type": "display_data"
    }
   ],
   "source": [
    "#民族分布不均匀 删除\n",
    "sns.countplot(x='nationality', data=df_all)\n",
    "# df_all.drop(['nationality'],axis=1,inplace=True)\n",
    "#不删民族试试看  发现效果不错 于是不删民族 "
   ]
  },
  {
   "cell_type": "code",
   "execution_count": 15,
   "metadata": {},
   "outputs": [
    {
     "data": {
      "image/png": "[encoded data removed]",
      "text/plain": [
       "<Figure size 432x288 with 1 Axes>"
      ]
     },
     "metadata": {
      "needs_background": "light"
     },
     "output_type": "display_data"
    }
   ],
   "source": [
    "#宗教不均匀\n",
    "sns.countplot(x='religion', data=df_all)\n",
    "df_all.drop(['religion','religion_freq'],axis=1,inplace=True)\n",
    "#试着处理宗教频率  结果告诉我们不好 \n",
    "# def freq_cut(x):\n",
    "#     if x<2:\n",
    "#         return 0\n",
    "#     elif x<5:\n",
    "#         return 1\n",
    "#     else:\n",
    "#         return 2\n",
    "# df_all['religion_freq'] = df_all['religion_freq'].map(freq_cut)\n",
    "# sns.countplot(x='religion_freq', data=df_all)"
   ]
  },
  {
   "cell_type": "code",
   "execution_count": 16,
   "metadata": {},
   "outputs": [
    {
     "data": {
      "text/plain": [
       "<matplotlib.axes._subplots.AxesSubplot at 0x2dab7908240>"
      ]
     },
     "execution_count": 16,
     "metadata": {},
     "output_type": "execute_result"
    },
    {
     "data": {
      "image/png": "[encoded data removed]",
      "text/plain": [
       "<Figure size 432x288 with 1 Axes>"
      ]
     },
     "metadata": {
      "needs_background": "light"
     },
     "output_type": "display_data"
    }
   ],
   "source": [
    "#政治面貌不均匀\n",
    "sns.countplot(x='political', data=df_all)\n",
    "# df_all.drop(['political'],axis=1,inplace=True)"
   ]
  },
  {
   "cell_type": "code",
   "execution_count": 17,
   "metadata": {},
   "outputs": [
    {
     "data": {
      "image/png": "[encoded data removed]",
      "text/plain": [
       "<Figure size 432x288 with 1 Axes>"
      ]
     },
     "metadata": {
      "needs_background": "light"
     },
     "output_type": "display_data"
    }
   ],
   "source": [
    "#房产不均匀，只保留property_1和property_2\n",
    "# sns.countplot(x='property_0', data=df_all)\n",
    "# sns.countplot(x='property_1', data=df_all)\n",
    "# sns.countplot(x='property_2', data=df_all)\n",
    "# sns.countplot(x='property_3', data=df_all)\n",
    "# sns.countplot(x='property_4', data=df_all)\n",
    "# sns.countplot(x='property_5', data=df_all)\n",
    "# sns.countplot(x='property_6', data=df_all)\n",
    "# sns.countplot(x='property_7', data=df_all)\n",
    "sns.countplot(x='property_8', data=df_all)\n",
    "df_all.drop(['property_0','property_3','property_4','property_5',\n",
    "             'property_6','property_7','property_8'],axis=1,inplace=True)\n",
    "#尝试保留8\n"
   ]
  },
  {
   "cell_type": "code",
   "execution_count": 18,
   "metadata": {},
   "outputs": [],
   "source": [
    "# health_problem和health 与happiness 看起来比较相像\n",
    "# 即使重复也不要删除 留着 是有提高的 \n",
    "# sns.countplot(x='health_problem', data=df_all)\n",
    "# sns.countplot(x='health', data=df_all)\n",
    "# df_all.drop(['health'],axis=1,inplace=True)"
   ]
  },
  {
   "cell_type": "code",
   "execution_count": 19,
   "metadata": {},
   "outputs": [],
   "source": [
    "#media_1，2，3分布一样，只保留media_1\n",
    "# 都保留 有提高 \n",
    "# sns.countplot(x='media_1', data=df_all)\n",
    "# sns.countplot(x='media_2', data=df_all)\n",
    "# sns.countplot(x='media_3', data=df_all)\n",
    "# sns.countplot(x='media_4', data=df_all)\n",
    "# sns.countplot(x='media_5', data=df_all)\n",
    "# sns.countplot(x='media_6', data=df_all)\n",
    "# sns.countplot(x='media_2', data=df_all)\n",
    "# df_all.drop(['media_2','media_3'],axis=1,inplace=True)"
   ]
  },
  {
   "cell_type": "code",
   "execution_count": 20,
   "metadata": {},
   "outputs": [],
   "source": [
    "#社保里面商业保险只保留一个，删除insur_3,4\n",
    "# sns.countplot(x='insur_1', data=df_all)\n",
    "# sns.countplot(x='insur_2', data=df_all)\n",
    "# sns.countplot(x='insur_3', data=df_all)\n",
    "# sns.countplot(x='insur_4', data=df_all)\n",
    "df_all.drop(['insur_1','insur_2','insur_3','insur_4'],axis=1,inplace=True)"
   ]
  },
  {
   "cell_type": "code",
   "execution_count": 21,
   "metadata": {},
   "outputs": [
    {
     "data": {
      "image/png": "[encoded data removed]",
      "text/plain": [
       "<Figure size 432x288 with 1 Axes>"
      ]
     },
     "metadata": {
      "needs_background": "light"
     },
     "output_type": "display_data"
    }
   ],
   "source": [
    "#基本没人投资，全部删除\n",
    "sns.countplot(x='invest_0', data=df_all)\n",
    "# sns.countplot(x='invest_1', data=df_all)\n",
    "# sns.countplot(x='invest_2', data=df_all)\n",
    "# sns.countplot(x='invest_3', data=df_all)\n",
    "# sns.countplot(x='invest_4', data=df_all)\n",
    "# sns.countplot(x='invest_5', data=df_all)\n",
    "df_all.drop(['invest_0','invest_1','invest_2','invest_3','invest_4',\n",
    "             'invest_5'],axis=1,inplace=True)\n",
    "# 不 我们这里保存 invest1和invest2 因为相关性挺高的 \n",
    "# 原来是都删除 还是不行 留下2 其余都删除试试看\n",
    "# 结果告诉我们 还是全部删除最好\n",
    "# 再一次保留invest1和invest2 "
   ]
  },
  {
   "cell_type": "code",
   "execution_count": 22,
   "metadata": {},
   "outputs": [],
   "source": [
    "#删除父母亲的政治面貌\n",
    "# sns.countplot(x='f_political', data=df_all)\n",
    "# sns.countplot(x='f_work_14', data=df_all)\n",
    "# sns.countplot(x='m_political', data=df_all)\n",
    "# sns.countplot(x='m_work_14', data=df_all)\n",
    "df_all.drop(['f_political','m_political'],axis=1,inplace=True)"
   ]
  },
  {
   "cell_type": "markdown",
   "metadata": {},
   "source": [
    "\n",
    "# 新特征构造"
   ]
  },
  {
   "cell_type": "code",
   "execution_count": 23,
   "metadata": {},
   "outputs": [],
   "source": [
    "# def city_split(x):\n",
    "#     if x in [33,37]:\n",
    "#         return 0\n",
    "#     elif x in [4,6]:\n",
    "#         return 0\n",
    "#     elif x in [15,16,67]:\n",
    "#         return 1\n",
    "#     elif x in [36,12,13,81,61,1]:\n",
    "#         return 1\n",
    "#     elif x in [76,14,82,65,35,72,19,63,87]:\n",
    "#         return 2\n",
    "#     elif x in [89,41,32,2,71,46,47]:\n",
    "#         return 2\n",
    "#     elif x in [75,64,51,88,74,66,31,83]:\n",
    "#         return 3\n",
    "#     elif x in [28,21,84,3,34,29,70,45,5]:\n",
    "#         return 3\n",
    "#     elif x in [22,79,54,23,44,11,17]:\n",
    "#         return 4\n",
    "#     elif x in [18,42,50,26,56,80,39,85,57,8,55]:\n",
    "#         return 4\n",
    "#     elif x in [69,77,68,20,53,10,59,27,52,40,43,78,7,9,6]:\n",
    "#         return 5\n",
    "#     elif x in [24,86,49,48,30]:\n",
    "#         return 5\n",
    "#     elif x in [25]:\n",
    "#         return 6\n",
    "#     else:\n",
    "#         return 3\n",
    "    \n",
    "# df_all[\"city_s\"]=df_all[\"city\"].map(city_split)\n",
    "# sns.countplot(x='city_s', data=df_all)"
   ]
  },
  {
   "cell_type": "code",
   "execution_count": 24,
   "metadata": {},
   "outputs": [
    {
     "data": {
      "text/plain": [
       "<matplotlib.axes._subplots.AxesSubplot at 0x2dab75f3630>"
      ]
     },
     "execution_count": 24,
     "metadata": {},
     "output_type": "execute_result"
    },
    {
     "data": {
      "image/png": "[encoded data removed]",
      "text/plain": [
       "<Figure size 432x288 with 1 Axes>"
      ]
     },
     "metadata": {
      "needs_background": "light"
     },
     "output_type": "display_data"
    }
   ],
   "source": [
    "df_all['class'] = df_all['class'].map(lambda x:5 if x==-8 else x)\n",
    "# df_all['class_10_after'] = df_all['class_10_after'].map(lambda x:5 if x==-8 else x)\n",
    "# df_all['class_10_before'] = df_all['class_10_before'].map(lambda x:5 if x==-8 else x)\n",
    "# df_all['view'] = df_all['view'].map(lambda x:3 if x==-8 else x)\n",
    "# df_all['socialize'] = df_all['socialize'].map(lambda x:3 if x==-8 else x)\n",
    "# df_all['inc_ability'] = df_all['inc_ability'].map(lambda x:4 if x==-8 else x)\n",
    "sns.countplot(x='class_10_after', data=df_all)\n",
    "# sns.countplot(x='join_party', data=df_all)\n",
    "#join_party 已被删除\n",
    "# sns.countplot(x='political', data=df_all)\n",
    "# df_all.drop(['leisure_6'],axis=1,inplace=True)\n",
    "# sns.countplot(x='learn', data=df_all)\n",
    "# sns.countplot(x='political', data=df_all)\n",
    "# sns.countplot(x='family_status', data=df_all)\n",
    "# sns.countplot(x='health', data=df_all)\n",
    "# sns.countplot(x='health_problem', data=df_all)\n",
    "# df_all['relax'] = df_all['relax'].map(lambda x:1 if x==-8 else x)\n",
    "# df_all['learn'] = df_all['learn'].map(lambda x:1 if x==-8 else x)\n",
    "# sns.countplot(x='relax', data=df_all)\n",
    "# 这是 关于 -8的处理\n",
    "# sns.countplot(x='s_edu', data=df_all)\n",
    "# 照样 根据之前的那个教育划分 应该还会有突破\n",
    "# 问题在于 这影响比较大的 都有-8"
   ]
  },
  {
   "cell_type": "code",
   "execution_count": 25,
   "metadata": {},
   "outputs": [],
   "source": [
    "# 第一次看到取平均值的特征构造 试试看\n",
    "# df_all['leisure'] = df_all['leisure_1']+df_all['leisure_2']+df_all['leisure_3']+df_all['leisure_4']+df_all['leisure_5']+df_all['leisure_6']\n",
    "# +df_all['leisure_7']+df_all['leisure_8']+df_all['leisure_9']+df_all['leisure_10']+df_all['leisure_11']+df_all['leisure_12']\n",
    "# df_all['leisure'] = df_all['leisure'].map(lambda x:x/12)\n",
    "# sns.countplot(x='leisure', data=df_all)"
   ]
  },
  {
   "cell_type": "code",
   "execution_count": 26,
   "metadata": {},
   "outputs": [],
   "source": [
    "# 试着对edu_yr进行分类\n",
    "# edu_yr 哪一年取得最高学历 \n",
    "# df_all['edu_yr'] = df_all['edu_yr'].map(lambda x:0 if x<0 else x)\n",
    "# df_all['edu_yr'] = 2015-df_all['edu_yr']\n",
    "# # # 由于前期被0填充过 \n",
    "# df_all['edu_yr'] = df_all['edu_yr'].map(lambda x:0 if x>=2015 else x)\n",
    "# df_all['edu_yr']\n",
    "# sns.countplot(x='edu_yr', data=df_all)\n",
    "# 额实际上没有用 "
   ]
  },
  {
   "cell_type": "code",
   "execution_count": 27,
   "metadata": {},
   "outputs": [],
   "source": [
    "# 试着对class分类 然而结果告诉我们不行 \n",
    "# def class_cut(x):\n",
    "#     if x in [1,2]:\n",
    "#         return 1\n",
    "#     elif x in [3,4]:\n",
    "#         return 2\n",
    "#     elif x in [5,6]:\n",
    "#         return 3\n",
    "#     elif x in [7,8]:\n",
    "#         return 4\n",
    "#     elif x in [9,10]:\n",
    "#         return 5\n",
    "# df_all[\"class\"]=df_all[\"class\"].map(class_cut)\n",
    "#删除 class 已覆盖 不用删除\n",
    "# df_all.drop(['s_edu'],axis=1,inplace=True)"
   ]
  },
  {
   "cell_type": "code",
   "execution_count": 28,
   "metadata": {},
   "outputs": [
    {
     "data": {
      "image/png": "[encoded data removed]",
      "text/plain": [
       "<Figure size 432x288 with 1 Axes>"
      ]
     },
     "metadata": {
      "needs_background": "light"
     },
     "output_type": "display_data"
    }
   ],
   "source": [
    "df_all['edu'] = df_all['edu'].map(lambda x:0 if x==-8 else x)\n",
    "# df_all['edu'] = df_all['edu'].map(lambda x:0 if x==14 else x)\n",
    "# sns.countplot(x='edu', data=df_all)\n",
    "def edu_split(x):\n",
    "    if x in [1,2,14]:\n",
    "        return 0\n",
    "    elif x in [3]:\n",
    "        return 1\n",
    "    elif x in [4]:\n",
    "        return 2\n",
    "    elif x in [5,7,8]:\n",
    "        return 3\n",
    "    elif x in [6]:\n",
    "        return 4\n",
    "    elif x in [9,10]:\n",
    "        return 5\n",
    "    elif x in [11,12]:\n",
    "        return 6\n",
    "    elif x in[13]:\n",
    "        return 7\n",
    "df_all[\"edu\"]=df_all[\"edu\"].map(edu_split)\n",
    "# sns.countplot(x='edu_s', data=df_all)\n",
    "# 既然 对edu分级 那么就应该 除掉 edu\n",
    "df_all.drop(['edu'],axis=1,inplace=True)\n",
    "# 对其配偶\n",
    "df_all[\"s_edu\"] = df_all[\"s_edu\"].map(edu_split)\n",
    "sns.countplot(x='s_edu', data=df_all)\n",
    "df_all.drop(['s_edu'],axis=1,inplace=True)\n"
   ]
  },
  {
   "cell_type": "code",
   "execution_count": 29,
   "metadata": {},
   "outputs": [],
   "source": [
    "df_all['survey_time'] = pd.to_datetime(df_all['survey_time'],format='%Y-%m-%d %H:%M:%S')\n",
    "df_all[\"hour\"]=df_all[\"survey_time\"].dt.hour"
   ]
  },
  {
   "cell_type": "code",
   "execution_count": 30,
   "metadata": {},
   "outputs": [
    {
     "data": {
      "image/png": "[encoded data removed]",
      "text/plain": [
       "<Figure size 432x288 with 1 Axes>"
      ]
     },
     "metadata": {
      "needs_background": "light"
     },
     "output_type": "display_data"
    }
   ],
   "source": [
    "#把一天的时间分段\n",
    "def hour_cut(x):\n",
    "    if 0<=x<6:\n",
    "        return 0\n",
    "    elif  6<=x<8:\n",
    "        return 1\n",
    "    elif  8<=x<12:\n",
    "        return 2\n",
    "    elif  12<=x<14:\n",
    "        return 3\n",
    "    elif  14<=x<18:\n",
    "        return 4\n",
    "    elif  18<=x<21:\n",
    "        return 5\n",
    "    elif  21<=x<24:\n",
    "        return 6\n",
    "\n",
    "    \n",
    "df_all[\"hour_cut\"]=df_all[\"hour\"].map(hour_cut)\n",
    "sns.countplot(x='hour_cut', data=df_all)\n",
    "# 构造了 hour 和hour_cut 显然 hour应该被删除\n",
    "df_all.drop(['hour'],axis=1,inplace=True)"
   ]
  },
  {
   "cell_type": "code",
   "execution_count": 31,
   "metadata": {},
   "outputs": [],
   "source": [
    "#出生的年代\n",
    "def birth_split(x):\n",
    "    if(x<1920):\n",
    "        return 0\n",
    "    if 1920<=x<=1930:\n",
    "        return 1\n",
    "    elif  1930<x<=1940:\n",
    "        return 2\n",
    "    elif  1940<x<=1950:\n",
    "        return 3\n",
    "    elif  1950<x<=1960:\n",
    "        return 4\n",
    "    elif  1960<x<=1970:\n",
    "        return 5\n",
    "    elif  1970<x<=1980:\n",
    "        return 6\n",
    "    elif  1980<x<=1990:\n",
    "        return 7\n",
    "    elif  1990<x<=2000:\n",
    "        return 8"
   ]
  },
  {
   "cell_type": "code",
   "execution_count": 32,
   "metadata": {},
   "outputs": [
    {
     "data": {
      "text/plain": [
       "<matplotlib.axes._subplots.AxesSubplot at 0x2dab7551be0>"
      ]
     },
     "execution_count": 32,
     "metadata": {},
     "output_type": "execute_result"
    },
    {
     "data": {
      "image/png": "[encoded data removed]",
      "text/plain": [
       "<Figure size 432x288 with 1 Axes>"
      ]
     },
     "metadata": {
      "needs_background": "light"
     },
     "output_type": "display_data"
    }
   ],
   "source": [
    "df_all[\"birth_s\"]=df_all[\"birth\"].map(birth_split)\n",
    "sns.countplot(x='birth_s', data=df_all)"
   ]
  },
  {
   "cell_type": "code",
   "execution_count": 33,
   "metadata": {},
   "outputs": [],
   "source": [
    "# 年龄划分\n",
    "def age_class(x):\n",
    "    if(x<0):\n",
    "        return 0\n",
    "    elif(x>0 and x<=16):\n",
    "        return 1\n",
    "    elif(x>16 and x<=32):\n",
    "        return 2\n",
    "    elif(x>32 and x<=48):\n",
    "        return 3\n",
    "    elif(x>48 and x<=64):\n",
    "        return 4\n",
    "    elif(x>64 and x<=80):\n",
    "        return 5\n",
    "    elif(80<x<=96):\n",
    "        return 6\n",
    "    else:\n",
    "        return 7"
   ]
  },
  {
   "cell_type": "code",
   "execution_count": 34,
   "metadata": {},
   "outputs": [
    {
     "data": {
      "text/plain": [
       "<matplotlib.axes._subplots.AxesSubplot at 0x2dab76fb550>"
      ]
     },
     "execution_count": 34,
     "metadata": {},
     "output_type": "execute_result"
    },
    {
     "data": {
      "image/png": "[encoded data removed]",
      "text/plain": [
       "<Figure size 432x288 with 1 Axes>"
      ]
     },
     "metadata": {
      "needs_background": "light"
     },
     "output_type": "display_data"
    }
   ],
   "source": [
    "#转换时间格式,求出每个人的年龄\n",
    "df_all['age']=pd.to_datetime(df_all['survey_time']).dt.year-df_all['birth']\n",
    "df_all[\"age_class\"]=df_all['age'].map(age_class)\n",
    "sns.countplot(x='age_class', data=df_all)\n",
    "\n",
    "# df_all['age'].value_counts()"
   ]
  },
  {
   "cell_type": "code",
   "execution_count": 35,
   "metadata": {},
   "outputs": [],
   "source": [
    "# 既然已对年龄分了级 那么就应该去掉age\n",
    "df_all.drop(['age'],axis=1,inplace=True)"
   ]
  },
  {
   "cell_type": "code",
   "execution_count": 36,
   "metadata": {},
   "outputs": [],
   "source": [
    "def  get_fat(x):\n",
    "    if(x<0):\n",
    "        return 1\n",
    "    elif(x>0 and x<18.5):\n",
    "        return 1\n",
    "    elif(x>=18.5 and x<=23.9):\n",
    "        return 2 \n",
    "    elif(x>=24 and x<=26.9):\n",
    "        return 3\n",
    "    elif(x>26.9 and x<29.9):\n",
    "        return 4\n",
    "    else:\n",
    "        return 5"
   ]
  },
  {
   "cell_type": "code",
   "execution_count": 37,
   "metadata": {},
   "outputs": [
    {
     "data": {
      "image/png": "[encoded data removed]",
      "text/plain": [
       "<Figure size 432x288 with 1 Axes>"
      ]
     },
     "metadata": {
      "needs_background": "light"
     },
     "output_type": "display_data"
    }
   ],
   "source": [
    "# 增加BMI\n",
    "# 体重/身高的平方（国际单位kg/㎡）\n",
    "# 这边确实厘米和斤 \n",
    "height = df_all[\"height_cm\"]/100\n",
    "kg = df_all[\"weight_jin\"]/2\n",
    "# print(kg)\n",
    "# print(height)\n",
    "bmi = kg/pow(height,2)\n",
    "# print(bmi)\n",
    "df_all[\"bmi\"] = bmi\n",
    "# df_all[\"bmi\"] = df_all[\"bmi\"].map(lambda x:2*x if x<=14 else x)\n",
    "# df_all['relax'] = df_all['relax'].map(lambda x:1 if x==-8 else x)\n",
    "df_all[\"fat\"] = df_all[\"bmi\"].map(get_fat)\n",
    "# sns.countplot(x='bmi', data=df_all)\n",
    "# 水平分为三类 再将\n",
    "# <27 为0 大于27 为1 代表肥胖\n",
    "# df_all[\"bmi\"].value_counts()\n",
    "sns.countplot(x='fat', data=df_all)\n",
    "df_all.drop(['bmi'],axis=1,inplace=True)"
   ]
  },
  {
   "cell_type": "code",
   "execution_count": 38,
   "metadata": {},
   "outputs": [],
   "source": [
    "# 既然已经得到了fat 那么就没有在留着体重的必要了\n",
    "df_all.drop(['weight_jin'],axis=1,inplace=True)\n",
    "# 试着不删除 因为听很重要这个条件"
   ]
  },
  {
   "cell_type": "code",
   "execution_count": 39,
   "metadata": {},
   "outputs": [],
   "source": [
    "# 收入分级\n",
    "def get_income_class(x):\n",
    "    if(x<=0):\n",
    "        return 0\n",
    "    if 0< x < 2800:\n",
    "        return  1\n",
    "    elif 2800<= x <10000:\n",
    "        return 2\n",
    "    elif 10000 <= x <27000:\n",
    "        return 3\n",
    "    elif 27000<= x <100000:\n",
    "        return 4\n",
    "    else : return 5"
   ]
  },
  {
   "cell_type": "code",
   "execution_count": 40,
   "metadata": {},
   "outputs": [
    {
     "data": {
      "text/plain": [
       "<matplotlib.axes._subplots.AxesSubplot at 0x2dab7c12278>"
      ]
     },
     "execution_count": 40,
     "metadata": {},
     "output_type": "execute_result"
    },
    {
     "data": {
      "image/png": "[encoded data removed]",
      "text/plain": [
       "<Figure size 432x288 with 1 Axes>"
      ]
     },
     "metadata": {
      "needs_background": "light"
     },
     "output_type": "display_data"
    }
   ],
   "source": [
    "#再对收入进行分级\n",
    "# df_all['equity'] = df_all['equity'].map(lambda x:3 if x==-8 else x)\n",
    "df_all[\"income\"] = df_all[\"income\"].map(lambda x:0 if x<0 else x)\n",
    "df_all[\"income_class\"] = df_all[\"income\"].map(get_income_class)\n",
    "# df_all[\"s_income\"] = df_all[\"s_income\"].map(get_income_class)\n",
    "sns.countplot(x='income_class', data=df_all)\n",
    "# 我的天 之前没有删除收入 现在删除来看看\n",
    "# df_all.drop(['income'],axis=1,inplace=True)\n",
    "# 新特征 人均收入 \n",
    "# df_all['aver_income'] = df_all[\"family_income\"]/df_all['family_m']"
   ]
  },
  {
   "cell_type": "code",
   "execution_count": 41,
   "metadata": {},
   "outputs": [],
   "source": [
    "# 既然已对收入分了级 那么也就不应该保留income\n",
    "df_all.drop(['income'],axis=1,inplace=True)"
   ]
  },
  {
   "cell_type": "code",
   "execution_count": 42,
   "metadata": {},
   "outputs": [],
   "source": [
    "# 对住房面积进行划分\n",
    "def floor_area_split(x):\n",
    "    if(x<=0):\n",
    "        return 0\n",
    "    if 0<x<15:\n",
    "        return 1\n",
    "    elif 15<=x<30:\n",
    "        return 2\n",
    "    elif 30<=x<50:\n",
    "        return 3\n",
    "    elif 50<=x<80:\n",
    "        return 4\n",
    "    elif 80<=x<96:\n",
    "        return 5\n",
    "    elif 96<=x<110:\n",
    "        return 6\n",
    "    elif 110<=x<130:\n",
    "        return 7\n",
    "    elif 130<=x<200:\n",
    "        return 8\n",
    "    elif x>=200:\n",
    "        return 9"
   ]
  },
  {
   "cell_type": "code",
   "execution_count": 43,
   "metadata": {},
   "outputs": [],
   "source": [
    "df_all[\"floor_area_s\"]=df_all[\"floor_area\"].map(floor_area_split)\n",
    "# df_all[\"floor_area_s\"]\n",
    "# sns.countplot(x='floor_area_s', data=df_all)\n",
    "#不对住房面积进行划分 效果不好 还是划分比较好 "
   ]
  },
  {
   "cell_type": "code",
   "execution_count": 44,
   "metadata": {},
   "outputs": [],
   "source": [
    "# 对省份进行分级\n",
    "def province_split(x):\n",
    "    if x in [6,1,12,28,13]:\n",
    "        return 0\n",
    "    elif x in [24,29,26,2,8,22,21]:\n",
    "        return 1\n",
    "    elif x in [16,31]:\n",
    "        return 2\n",
    "    elif x in [9,7,15,11,18,30,27,19]:\n",
    "        return 3\n",
    "    elif x in [23,5,10,4,3,17,4]:\n",
    "        return 4"
   ]
  },
  {
   "cell_type": "code",
   "execution_count": 45,
   "metadata": {},
   "outputs": [
    {
     "data": {
      "text/plain": [
       "<matplotlib.axes._subplots.AxesSubplot at 0x2dab7c69d68>"
      ]
     },
     "execution_count": 45,
     "metadata": {},
     "output_type": "execute_result"
    },
    {
     "data": {
      "image/png": "[encoded data removed]",
      "text/plain": [
       "<Figure size 432x288 with 1 Axes>"
      ]
     },
     "metadata": {
      "needs_background": "light"
     },
     "output_type": "display_data"
    }
   ],
   "source": [
    "df_all[\"province_s\"]=df_all[\"province\"].map(province_split)\n",
    "sns.countplot(x='province_s', data=df_all)"
   ]
  },
  {
   "cell_type": "code",
   "execution_count": 46,
   "metadata": {},
   "outputs": [],
   "source": [
    "# 既然已对省份划分 那么省去省份这个属性\n",
    "df_all.drop(['province'],axis=1,inplace=True)\n",
    "# 顺便再把city和county去掉 不能去 去掉后 准确度降低\n",
    "# sns.countplot(x='city', data=df_all)\n",
    "# df_all.drop(['city','county'],axis=1,inplace=True)"
   ]
  },
  {
   "cell_type": "code",
   "execution_count": 47,
   "metadata": {},
   "outputs": [],
   "source": [
    "# 人均住房面积 \n",
    "df_all['aver_area']=df_all['floor_area']/df_all['family_m']\n",
    "# df_all[\"aver_area_class\"]=df_all[\"aver_area\"].map(average_area)\n",
    "# sns.countplot(x='aver_area_class', data=df_all)\n",
    "# df_all['aver_area'].value_counts()"
   ]
  },
  {
   "cell_type": "code",
   "execution_count": 48,
   "metadata": {},
   "outputs": [],
   "source": [
    "# 删除住房面积,人居住房面积\n",
    "df_all.drop(['floor_area'],axis=1,inplace=True)"
   ]
  },
  {
   "cell_type": "code",
   "execution_count": 49,
   "metadata": {},
   "outputs": [],
   "source": [
    "df_all.drop(['id'],axis=1,inplace=True)\n",
    "df_all.drop(['survey_time','birth'],axis=1,inplace=True)"
   ]
  },
  {
   "cell_type": "code",
   "execution_count": 50,
   "metadata": {},
   "outputs": [],
   "source": [
    "def mar_yr_class(x):\n",
    "    if(x<=0):\n",
    "        return 0;\n",
    "    elif(0<x<=7):\n",
    "        return 1;\n",
    "    elif(7<x<=14):\n",
    "        return 2;\n",
    "    elif(14<x<21):\n",
    "        return 3;\n",
    "    elif(21<x<=28):\n",
    "        return 4;\n",
    "    elif(28<x<=35):\n",
    "        return 5;\n",
    "    elif(35<x<=42):\n",
    "        return 6;\n",
    "    elif(42<x<=49):\n",
    "        return 7;\n",
    "    elif(49<x<56):\n",
    "        return 8;"
   ]
  },
  {
   "cell_type": "code",
   "execution_count": 51,
   "metadata": {},
   "outputs": [],
   "source": [
    "# #删除其他时间数据\n",
    "\n",
    "df_all['mar_yr']=2015-df_all['marital_now']\n",
    "# df_all['mar_yr']=df_all['mar_yr'].map(mar_yr_class)\n",
    "# sns.countplot(x='mar_yr', data=df_all)\n",
    "\n",
    "df_all.drop(['s_birth','f_birth','m_birth'],axis=1,inplace=True)\n",
    "df_all.drop(['marital_now'],axis=1,inplace=True)\n",
    "# df_all.drop(['floor_area'],axis=1,inplace=True)\n",
    "# df_all.drop(['height_cm'],axis=1,inplace=True)"
   ]
  },
  {
   "cell_type": "code",
   "execution_count": 52,
   "metadata": {},
   "outputs": [
    {
     "data": {
      "text/plain": [
       "<matplotlib.axes._subplots.AxesSubplot at 0x2dab7cdca90>"
      ]
     },
     "execution_count": 52,
     "metadata": {},
     "output_type": "execute_result"
    },
    {
     "data": {
      "image/png": "[encoded data removed]",
      "text/plain": [
       "<Figure size 432x288 with 1 Axes>"
      ]
     },
     "metadata": {
      "needs_background": "light"
     },
     "output_type": "display_data"
    }
   ],
   "source": [
    "# 公平\n",
    "df_all['equity'] = df_all['equity'].map(lambda x:3 if x==-8 else x)\n",
    "sns.countplot(x='equity', data=df_all)"
   ]
  },
  {
   "cell_type": "code",
   "execution_count": 53,
   "metadata": {},
   "outputs": [
    {
     "data": {
      "text/plain": [
       "<matplotlib.axes._subplots.AxesSubplot at 0x2dab7d4d208>"
      ]
     },
     "execution_count": 53,
     "metadata": {},
     "output_type": "execute_result"
    },
    {
     "data": {
      "image/png": "[encoded data removed]",
      "text/plain": [
       "<Figure size 432x288 with 1 Axes>"
      ]
     },
     "metadata": {
      "needs_background": "light"
     },
     "output_type": "display_data"
    }
   ],
   "source": [
    "# print(df_all.head())\n",
    "# 使用z-score方法 进行数据规范化 \n",
    "numeric_cols=['height_cm','s_income','house','family_income','family_m'\n",
    "              ,'son','daughter','minor_child','inc_exp','public_service_1',\n",
    "              'public_service_2','public_service_3','public_service_4',\n",
    "              'public_service_5','public_service_6','public_service_7',\n",
    "              'public_service_8','public_service_9','aver_area','mar_yr']\n",
    "numeric_cols_means=df_all.loc[:,numeric_cols].mean()\n",
    "# print(numeric_cols_means)\n",
    "numeric_cols_std=df_all.loc[:,numeric_cols].std()\n",
    "# print(numeric_cols_std)\n",
    "df_numeric=(df_all.loc[:,numeric_cols]-numeric_cols_means)/numeric_cols_std\n",
    "# print(df_numeric)\n",
    "df_numeric.iloc[:,1].hist()\n",
    "# df_all.columns.values.tolist()\n",
    "# 删除id这一列\n"
   ]
  },
  {
   "cell_type": "code",
   "execution_count": 54,
   "metadata": {},
   "outputs": [],
   "source": [
    "# 对object类型进行规范化  调用get_dummies函数\n",
    "df_object=df_all.drop(numeric_cols,axis=1)\n",
    "# print(df_object.head)\n",
    "df_object=df_object.astype(str)\n",
    "for cols in list(df_object.iloc[:,1:].columns):\n",
    "    df_object=pd.get_dummies(df_object.iloc[:,1:],prefix=cols)\n",
    "# df_object.iloc[:,1].hist()\n",
    "# print(df_object.head())"
   ]
  },
  {
   "cell_type": "code",
   "execution_count": 55,
   "metadata": {},
   "outputs": [],
   "source": [
    "data=pd.concat((df_object,df_numeric),axis=1)"
   ]
  },
  {
   "cell_type": "code",
   "execution_count": 56,
   "metadata": {},
   "outputs": [
    {
     "name": "stdout",
     "output_type": "stream",
     "text": [
      "8000\n",
      "8000\n",
      "2968\n"
     ]
    }
   ],
   "source": [
    "train_data=data.iloc[:8000,:]\n",
    "test_data=data.iloc[8000:,:]\n",
    "X_train=train_data.values\n",
    "X_test=test_data.values\n",
    "print(len(X_train))\n",
    "print(len(y_train))\n",
    "print(len(X_test))"
   ]
  },
  {
   "cell_type": "markdown",
   "metadata": {},
   "source": [
    "# 模型选择问题"
   ]
  },
  {
   "cell_type": "code",
   "execution_count": 57,
   "metadata": {},
   "outputs": [],
   "source": [
    "import lightgbm as lgb\n",
    "from sklearn.metrics import mean_squared_error\n",
    "from sklearn.model_selection import KFold, RepeatedKFold"
   ]
  },
  {
   "cell_type": "markdown",
   "metadata": {},
   "source": [
    "# lgb"
   ]
  },
  {
   "cell_type": "code",
   "execution_count": 58,
   "metadata": {},
   "outputs": [
    {
     "name": "stdout",
     "output_type": "stream",
     "text": [
      "fold n°1\n",
      "Training until validation scores don't improve for 100 rounds\n",
      "[200]\ttraining's l2: 0.44459\tvalid_1's l2: 0.476884\n",
      "[400]\ttraining's l2: 0.376238\tvalid_1's l2: 0.454233\n",
      "[600]\ttraining's l2: 0.335196\tvalid_1's l2: 0.448973\n",
      "[800]\ttraining's l2: 0.304091\tvalid_1's l2: 0.446974\n",
      "[1000]\ttraining's l2: 0.27831\tvalid_1's l2: 0.445832\n",
      "[1200]\ttraining's l2: 0.256543\tvalid_1's l2: 0.445411\n",
      "Early stopping, best iteration is:\n",
      "[1158]\ttraining's l2: 0.26087\tvalid_1's l2: 0.44515\n",
      "fold n°2\n",
      "Training until validation scores don't improve for 100 rounds\n",
      "[200]\ttraining's l2: 0.438001\tvalid_1's l2: 0.509728\n",
      "[400]\ttraining's l2: 0.369716\tvalid_1's l2: 0.481255\n",
      "[600]\ttraining's l2: 0.328808\tvalid_1's l2: 0.473838\n",
      "[800]\ttraining's l2: 0.298193\tvalid_1's l2: 0.471095\n",
      "[1000]\ttraining's l2: 0.273226\tvalid_1's l2: 0.469681\n",
      "[1200]\ttraining's l2: 0.251519\tvalid_1's l2: 0.469054\n",
      "Early stopping, best iteration is:\n",
      "[1133]\ttraining's l2: 0.258554\tvalid_1's l2: 0.468773\n",
      "fold n°3\n",
      "Training until validation scores don't improve for 100 rounds\n",
      "[200]\ttraining's l2: 0.439156\tvalid_1's l2: 0.503977\n",
      "[400]\ttraining's l2: 0.371368\tvalid_1's l2: 0.476663\n",
      "[600]\ttraining's l2: 0.330751\tvalid_1's l2: 0.468769\n",
      "[800]\ttraining's l2: 0.300219\tvalid_1's l2: 0.465856\n",
      "[1000]\ttraining's l2: 0.274745\tvalid_1's l2: 0.464955\n",
      "[1200]\ttraining's l2: 0.252804\tvalid_1's l2: 0.464714\n",
      "Early stopping, best iteration is:\n",
      "[1143]\ttraining's l2: 0.258739\tvalid_1's l2: 0.464476\n",
      "fold n°4\n",
      "Training until validation scores don't improve for 100 rounds\n",
      "[200]\ttraining's l2: 0.440305\tvalid_1's l2: 0.50344\n",
      "[400]\ttraining's l2: 0.37139\tvalid_1's l2: 0.4721\n",
      "[600]\ttraining's l2: 0.329738\tvalid_1's l2: 0.464347\n",
      "[800]\ttraining's l2: 0.298744\tvalid_1's l2: 0.462875\n",
      "Early stopping, best iteration is:\n",
      "[890]\ttraining's l2: 0.286684\tvalid_1's l2: 0.462592\n",
      "fold n°5\n",
      "Training until validation scores don't improve for 100 rounds\n",
      "[200]\ttraining's l2: 0.439499\tvalid_1's l2: 0.489468\n",
      "[400]\ttraining's l2: 0.370645\tvalid_1's l2: 0.470526\n",
      "[600]\ttraining's l2: 0.32993\tvalid_1's l2: 0.46579\n",
      "[800]\ttraining's l2: 0.299076\tvalid_1's l2: 0.463489\n",
      "[1000]\ttraining's l2: 0.273384\tvalid_1's l2: 0.462598\n",
      "Early stopping, best iteration is:\n",
      "[939]\ttraining's l2: 0.280926\tvalid_1's l2: 0.462222\n",
      "CV score: 0.46064255\n"
     ]
    }
   ],
   "source": [
    "param = {'boosting_type': 'gbdt',\n",
    "         'num_leaves': 20,\n",
    "         'min_data_in_leaf': 19, \n",
    "         'objective':'regression',\n",
    "         'max_depth':9,\n",
    "         'learning_rate': 0.01,\n",
    "         \"min_child_samples\": 30,\n",
    "         \n",
    "         \"feature_fraction\": 0.91,\n",
    "         \"bagging_freq\": 1,\n",
    "         \"bagging_fraction\": 0.75,\n",
    "         \"bagging_seed\": 11,\n",
    "         \"metric\": 'mse',\n",
    "         \"lambda_l1\": 0.15,\n",
    "         \"verbosity\": -1}\n",
    "folds = KFold(n_splits=5, shuffle=True, random_state=2018)\n",
    "oof_lgb = np.zeros(len(X_train))\n",
    "predictions_lgb = np.zeros(len(X_test))\n",
    "\n",
    "for fold_, (trn_idx, val_idx) in enumerate(folds.split(X_train, y_train)):\n",
    "    print(\"fold n°{}\".format(fold_+1))\n",
    "   # print(trn_idx)\n",
    "   # print(\".............x_train.........\")\n",
    "   # print(X_train[trn_idx])\n",
    "  #  print(\".............y_train.........\")\n",
    "  #  print(y_train[trn_idx])\n",
    "    trn_data = lgb.Dataset(X_train[trn_idx], y_train[trn_idx])\n",
    "    \n",
    "    val_data = lgb.Dataset(X_train[val_idx], y_train[val_idx])\n",
    "\n",
    "    num_round = 10000\n",
    "    clf = lgb.train(param, trn_data, num_round, valid_sets = [trn_data, val_data], verbose_eval=200, early_stopping_rounds = 100)\n",
    "    oof_lgb[val_idx] = clf.predict(X_train[val_idx], num_iteration=clf.best_iteration)\n",
    "    \n",
    "    predictions_lgb += clf.predict(X_test, num_iteration=clf.best_iteration) / folds.n_splits\n",
    "\n",
    "print(\"CV score: {:<8.8f}\".format(mean_squared_error(oof_lgb, y_train)))"
   ]
  },
  {
   "cell_type": "code",
   "execution_count": 59,
   "metadata": {},
   "outputs": [],
   "source": [
    "import xgboost as xgb"
   ]
  },
  {
   "cell_type": "code",
   "execution_count": 60,
   "metadata": {},
   "outputs": [],
   "source": [
    "#自定义评价函数\n",
    "def myFeval(preds, xgbtrain):\n",
    "    label = xgbtrain.get_label()\n",
    "    score = mean_squared_error(label,preds)\n",
    "    return 'myFeval',score"
   ]
  },
  {
   "cell_type": "code",
   "execution_count": 61,
   "metadata": {},
   "outputs": [
    {
     "name": "stdout",
     "output_type": "stream",
     "text": [
      "fold n°1\n"
     ]
    },
    {
     "name": "stderr",
     "output_type": "stream",
     "text": [
      "d:\\install\\python\\python36\\lib\\site-packages\\xgboost\\core.py:587: FutureWarning: Series.base is deprecated and will be removed in a future version\n",
      "  if getattr(data, 'base', None) is not None and \\\n"
     ]
    },
    {
     "name": "stdout",
     "output_type": "stream",
     "text": [
      "[0]\ttrain-rmse:3.44143\tvalid_data-rmse:3.42216\ttrain-myFeval:11.8435\tvalid_data-myFeval:11.7112\n",
      "Multiple eval metrics have been passed: 'valid_data-myFeval' will be used for early stopping.\n",
      "\n",
      "Will train until valid_data-myFeval hasn't improved in 200 rounds.\n",
      "[100]\ttrain-rmse:1.41699\tvalid_data-rmse:1.41848\ttrain-myFeval:2.00785\tvalid_data-myFeval:2.01207\n",
      "[200]\ttrain-rmse:0.786676\tvalid_data-rmse:0.832274\ttrain-myFeval:0.618858\tvalid_data-myFeval:0.69268\n",
      "[300]\ttrain-rmse:0.625929\tvalid_data-rmse:0.713038\ttrain-myFeval:0.391788\tvalid_data-myFeval:0.508424\n",
      "[400]\ttrain-rmse:0.577031\tvalid_data-rmse:0.692593\ttrain-myFeval:0.332964\tvalid_data-myFeval:0.479684\n",
      "[500]\ttrain-rmse:0.549875\tvalid_data-rmse:0.687393\ttrain-myFeval:0.302363\tvalid_data-myFeval:0.472509\n",
      "[600]\ttrain-rmse:0.52856\tvalid_data-rmse:0.685256\ttrain-myFeval:0.279376\tvalid_data-myFeval:0.469576\n",
      "[700]\ttrain-rmse:0.512297\tvalid_data-rmse:0.684155\ttrain-myFeval:0.262448\tvalid_data-myFeval:0.468069\n",
      "[800]\ttrain-rmse:0.497096\tvalid_data-rmse:0.683244\ttrain-myFeval:0.247104\tvalid_data-myFeval:0.466822\n",
      "[900]\ttrain-rmse:0.483539\tvalid_data-rmse:0.682673\ttrain-myFeval:0.23381\tvalid_data-myFeval:0.466042\n",
      "[1000]\ttrain-rmse:0.470039\tvalid_data-rmse:0.68217\ttrain-myFeval:0.220936\tvalid_data-myFeval:0.465356\n",
      "[1100]\ttrain-rmse:0.457255\tvalid_data-rmse:0.681772\ttrain-myFeval:0.209083\tvalid_data-myFeval:0.464814\n",
      "[1200]\ttrain-rmse:0.446138\tvalid_data-rmse:0.681437\ttrain-myFeval:0.199039\tvalid_data-myFeval:0.464356\n",
      "[1300]\ttrain-rmse:0.435758\tvalid_data-rmse:0.681341\ttrain-myFeval:0.189885\tvalid_data-myFeval:0.464226\n",
      "[1400]\ttrain-rmse:0.425164\tvalid_data-rmse:0.681115\ttrain-myFeval:0.180765\tvalid_data-myFeval:0.463918\n",
      "[1500]\ttrain-rmse:0.415034\tvalid_data-rmse:0.68115\ttrain-myFeval:0.172253\tvalid_data-myFeval:0.463966\n",
      "[1600]\ttrain-rmse:0.405025\tvalid_data-rmse:0.680976\ttrain-myFeval:0.164046\tvalid_data-myFeval:0.463728\n",
      "[1700]\ttrain-rmse:0.396233\tvalid_data-rmse:0.681098\ttrain-myFeval:0.157\tvalid_data-myFeval:0.463895\n",
      "[1800]\ttrain-rmse:0.387481\tvalid_data-rmse:0.680969\ttrain-myFeval:0.150141\tvalid_data-myFeval:0.463719\n",
      "Stopping. Best iteration:\n",
      "[1653]\ttrain-rmse:0.400362\tvalid_data-rmse:0.680861\ttrain-myFeval:0.16029\tvalid_data-myFeval:0.463571\n",
      "\n",
      "fold n°2\n",
      "[0]\ttrain-rmse:3.42222\tvalid_data-rmse:3.4417\ttrain-myFeval:11.7116\tvalid_data-myFeval:11.8453\n",
      "Multiple eval metrics have been passed: 'valid_data-myFeval' will be used for early stopping.\n",
      "\n",
      "Will train until valid_data-myFeval hasn't improved in 200 rounds.\n"
     ]
    },
    {
     "name": "stderr",
     "output_type": "stream",
     "text": [
      "d:\\install\\python\\python36\\lib\\site-packages\\xgboost\\core.py:587: FutureWarning: Series.base is deprecated and will be removed in a future version\n",
      "  if getattr(data, 'base', None) is not None and \\\n"
     ]
    },
    {
     "name": "stdout",
     "output_type": "stream",
     "text": [
      "[100]\ttrain-rmse:1.40946\tvalid_data-rmse:1.44828\ttrain-myFeval:1.98659\tvalid_data-myFeval:2.09752\n",
      "[200]\ttrain-rmse:0.78214\tvalid_data-rmse:0.854051\ttrain-myFeval:0.611743\tvalid_data-myFeval:0.729403\n",
      "[300]\ttrain-rmse:0.621723\tvalid_data-rmse:0.723399\ttrain-myFeval:0.38654\tvalid_data-myFeval:0.523306\n",
      "[400]\ttrain-rmse:0.571819\tvalid_data-rmse:0.695813\ttrain-myFeval:0.326977\tvalid_data-myFeval:0.484156\n",
      "[500]\ttrain-rmse:0.545216\tvalid_data-rmse:0.687879\ttrain-myFeval:0.297261\tvalid_data-myFeval:0.473178\n",
      "[600]\ttrain-rmse:0.524515\tvalid_data-rmse:0.684785\ttrain-myFeval:0.275116\tvalid_data-myFeval:0.468931\n",
      "[700]\ttrain-rmse:0.507121\tvalid_data-rmse:0.68321\ttrain-myFeval:0.257171\tvalid_data-myFeval:0.466775\n",
      "[800]\ttrain-rmse:0.491299\tvalid_data-rmse:0.682341\ttrain-myFeval:0.241375\tvalid_data-myFeval:0.465589\n",
      "[900]\ttrain-rmse:0.476183\tvalid_data-rmse:0.681992\ttrain-myFeval:0.226751\tvalid_data-myFeval:0.465113\n",
      "[1000]\ttrain-rmse:0.462978\tvalid_data-rmse:0.681659\ttrain-myFeval:0.214349\tvalid_data-myFeval:0.464659\n",
      "[1100]\ttrain-rmse:0.450129\tvalid_data-rmse:0.681627\ttrain-myFeval:0.202616\tvalid_data-myFeval:0.464615\n",
      "[1200]\ttrain-rmse:0.437684\tvalid_data-rmse:0.681521\ttrain-myFeval:0.191568\tvalid_data-myFeval:0.464471\n",
      "[1300]\ttrain-rmse:0.425424\tvalid_data-rmse:0.681516\ttrain-myFeval:0.180986\tvalid_data-myFeval:0.464464\n",
      "[1400]\ttrain-rmse:0.414812\tvalid_data-rmse:0.681732\ttrain-myFeval:0.172069\tvalid_data-myFeval:0.464758\n",
      "Stopping. Best iteration:\n",
      "[1272]\ttrain-rmse:0.428727\tvalid_data-rmse:0.681375\ttrain-myFeval:0.183807\tvalid_data-myFeval:0.464271\n",
      "\n"
     ]
    }
   ],
   "source": [
    "##### xgb\n",
    "\n",
    "xgb_params = {\"booster\":'gbtree','eta': 0.01, 'max_depth': 5, 'subsample': 0.7, \n",
    "              'colsample_bytree': 0.6, 'objective': 'reg:linear', 'eval_metric': 'rmse', 'silent': True, 'nthread': 8}\n",
    "# xgb_params ={'max_depth':[4,5,6],'min_child_weight':list(range(1,6,2))}\n",
    "\n",
    "folds = KFold(n_splits=2, shuffle=True, random_state=2018)\n",
    "oof_xgb = np.zeros(8000)\n",
    "predictions_xgb = np.zeros(2968)\n",
    "\n",
    "for fold_, (trn_idx, val_idx) in enumerate(folds.split(X_train, y_train)):\n",
    "    print(\"fold n°{}\".format(fold_+1))\n",
    "    trn_data = xgb.DMatrix(X_train[trn_idx], y_train[trn_idx])\n",
    "    val_data = xgb.DMatrix(X_train[val_idx], y_train[val_idx])\n",
    "    \n",
    "    watchlist = [(trn_data, 'train'), (val_data, 'valid_data')]\n",
    "    clf = xgb.train(dtrain=trn_data, num_boost_round=20000, evals=watchlist, early_stopping_rounds=200, verbose_eval=100, params=xgb_params,feval = myFeval)\n",
    "    oof_xgb[val_idx] = clf.predict(xgb.DMatrix(X_train[val_idx]), ntree_limit=clf.best_ntree_limit)\n",
    "    predictions_xgb += clf.predict(xgb.DMatrix(X_test), ntree_limit=clf.best_ntree_limit) / folds.n_splits\n",
    "    \n",
    "# print(\"CV score: {:<8.8f}\".format(mean_squared_error(oof_xgb, y_train_)))"
   ]
  },
  {
   "cell_type": "code",
   "execution_count": 62,
   "metadata": {},
   "outputs": [
    {
     "name": "stdout",
     "output_type": "stream",
     "text": [
      "CV score: 0.46392141\n"
     ]
    }
   ],
   "source": [
    "print(\"CV score: {:<8.8f}\".format(mean_squared_error(oof_xgb, y_train)))"
   ]
  },
  {
   "cell_type": "code",
   "execution_count": 63,
   "metadata": {},
   "outputs": [
    {
     "name": "stdout",
     "output_type": "stream",
     "text": [
      "fold n°0\n",
      "0:\tlearn: 0.8187759\ttest: 0.7829818\tbest: 0.7829818 (0)\ttotal: 63.1ms\tremaining: 1h 45m 7s\n",
      "100:\tlearn: 0.6904412\ttest: 0.6811175\tbest: 0.6811175 (100)\ttotal: 374ms\tremaining: 6m 10s\n",
      "200:\tlearn: 0.6638549\ttest: 0.6707397\tbest: 0.6707201 (199)\ttotal: 668ms\tremaining: 5m 31s\n",
      "300:\tlearn: 0.6432620\ttest: 0.6665794\tbest: 0.6664931 (297)\ttotal: 989ms\tremaining: 5m 27s\n",
      "400:\tlearn: 0.6278396\ttest: 0.6640094\tbest: 0.6640094 (400)\ttotal: 1.41s\tremaining: 5m 49s\n",
      "500:\tlearn: 0.6129907\ttest: 0.6623218\tbest: 0.6623218 (500)\ttotal: 1.76s\tremaining: 5m 49s\n",
      "600:\tlearn: 0.5993882\ttest: 0.6612351\tbest: 0.6612247 (593)\ttotal: 2.14s\tremaining: 5m 54s\n",
      "Stopped by overfitting detector  (50 iterations wait)\n",
      "\n",
      "bestTest = 0.6606504856\n",
      "bestIteration = 634\n",
      "\n",
      "Shrink model to first 635 iterations.\n",
      "fold n°1\n",
      "0:\tlearn: 0.8118825\ttest: 0.8178108\tbest: 0.8178108 (0)\ttotal: 3.24ms\tremaining: 5m 23s\n",
      "100:\tlearn: 0.6905405\ttest: 0.6960020\tbest: 0.6960020 (100)\ttotal: 334ms\tremaining: 5m 30s\n",
      "200:\tlearn: 0.6646841\ttest: 0.6796894\tbest: 0.6796894 (200)\ttotal: 669ms\tremaining: 5m 31s\n",
      "300:\tlearn: 0.6437794\ttest: 0.6726239\tbest: 0.6726024 (298)\ttotal: 970ms\tremaining: 5m 21s\n",
      "400:\tlearn: 0.6272889\ttest: 0.6697623\tbest: 0.6696880 (394)\ttotal: 1.27s\tremaining: 5m 16s\n",
      "500:\tlearn: 0.6129909\ttest: 0.6681430\tbest: 0.6681054 (499)\ttotal: 1.58s\tremaining: 5m 13s\n",
      "600:\tlearn: 0.6004130\ttest: 0.6668799\tbest: 0.6667251 (579)\ttotal: 1.9s\tremaining: 5m 14s\n",
      "Stopped by overfitting detector  (50 iterations wait)\n",
      "\n",
      "bestTest = 0.6667250516\n",
      "bestIteration = 579\n",
      "\n",
      "Shrink model to first 580 iterations.\n",
      "fold n°2\n",
      "0:\tlearn: 0.8082353\ttest: 0.8400109\tbest: 0.8400109 (0)\ttotal: 3.09ms\tremaining: 5m 8s\n",
      "100:\tlearn: 0.6840807\ttest: 0.7209645\tbest: 0.7209645 (100)\ttotal: 379ms\tremaining: 6m 15s\n",
      "200:\tlearn: 0.6576947\ttest: 0.7061067\tbest: 0.7061067 (200)\ttotal: 757ms\tremaining: 6m 15s\n",
      "300:\tlearn: 0.6373154\ttest: 0.6990123\tbest: 0.6990123 (300)\ttotal: 1.19s\tremaining: 6m 32s\n",
      "400:\tlearn: 0.6209284\ttest: 0.6958905\tbest: 0.6958905 (400)\ttotal: 1.63s\tremaining: 6m 45s\n",
      "500:\tlearn: 0.6063355\ttest: 0.6950923\tbest: 0.6948744 (480)\ttotal: 1.95s\tremaining: 6m 27s\n",
      "600:\tlearn: 0.5927200\ttest: 0.6942033\tbest: 0.6938204 (590)\ttotal: 2.35s\tremaining: 6m 28s\n",
      "700:\tlearn: 0.5808753\ttest: 0.6929761\tbest: 0.6929566 (699)\ttotal: 2.71s\tremaining: 6m 23s\n",
      "800:\tlearn: 0.5688641\ttest: 0.6923234\tbest: 0.6921255 (788)\ttotal: 3.13s\tremaining: 6m 27s\n",
      "Stopped by overfitting detector  (50 iterations wait)\n",
      "\n",
      "bestTest = 0.6921255196\n",
      "bestIteration = 788\n",
      "\n",
      "Shrink model to first 789 iterations.\n",
      "fold n°3\n",
      "0:\tlearn: 0.8166715\ttest: 0.7941349\tbest: 0.7941349 (0)\ttotal: 4.11ms\tremaining: 6m 50s\n",
      "100:\tlearn: 0.6862885\ttest: 0.6956178\tbest: 0.6956178 (100)\ttotal: 367ms\tremaining: 6m 3s\n",
      "200:\tlearn: 0.6572888\ttest: 0.6878964\tbest: 0.6878964 (200)\ttotal: 757ms\tremaining: 6m 15s\n",
      "300:\tlearn: 0.6357362\ttest: 0.6854223\tbest: 0.6854159 (280)\ttotal: 1.16s\tremaining: 6m 24s\n",
      "Stopped by overfitting detector  (50 iterations wait)\n",
      "\n",
      "bestTest = 0.6850202293\n",
      "bestIteration = 317\n",
      "\n",
      "Shrink model to first 318 iterations.\n",
      "fold n°4\n",
      "0:\tlearn: 0.8080096\ttest: 0.8281020\tbest: 0.8281020 (0)\ttotal: 3.15ms\tremaining: 5m 15s\n",
      "100:\tlearn: 0.6824627\ttest: 0.7202541\tbest: 0.7202541 (100)\ttotal: 353ms\tremaining: 5m 49s\n",
      "200:\tlearn: 0.6561344\ttest: 0.7067490\tbest: 0.7067490 (200)\ttotal: 815ms\tremaining: 6m 44s\n",
      "300:\tlearn: 0.6355498\ttest: 0.7023734\tbest: 0.7023734 (300)\ttotal: 1.22s\tremaining: 6m 43s\n",
      "400:\tlearn: 0.6189154\ttest: 0.7003622\tbest: 0.7003470 (399)\ttotal: 1.64s\tremaining: 6m 48s\n",
      "500:\tlearn: 0.6048047\ttest: 0.6973945\tbest: 0.6972607 (490)\ttotal: 2.15s\tremaining: 7m 6s\n",
      "600:\tlearn: 0.5918298\ttest: 0.6970322\tbest: 0.6969404 (599)\ttotal: 2.57s\tremaining: 7m 4s\n",
      "700:\tlearn: 0.5795770\ttest: 0.6961430\tbest: 0.6960057 (664)\ttotal: 2.96s\tremaining: 6m 59s\n",
      "Stopped by overfitting detector  (50 iterations wait)\n",
      "\n",
      "bestTest = 0.6960056737\n",
      "bestIteration = 664\n",
      "\n",
      "Shrink model to first 665 iterations.\n",
      "CV score: 0.46284066\n"
     ]
    }
   ],
   "source": [
    "from catboost import Pool, CatBoostRegressor\n",
    "\n",
    "from sklearn.model_selection import train_test_split\n",
    "\n",
    "kfolder = KFold(n_splits=5, shuffle=True, random_state=2019)\n",
    "oof_cb = np.zeros(len(X_train))\n",
    "predictions_cb = np.zeros(len(X_test))\n",
    "kfold = kfolder.split(X_train, y_train)\n",
    "fold_=0\n",
    "#X_train_s, X_test_s, y_train_s, y_test_s = train_test_split(X_train, y_train, test_size=0.3, random_state=2019)\n",
    "for train_index, vali_index in kfold:\n",
    "    print(\"fold n°{}\".format(fold_))\n",
    "    fold_=fold_+1\n",
    "    k_x_train = X_train[train_index]\n",
    "    k_y_train = y_train[train_index]\n",
    "    k_x_vali = X_train[vali_index]\n",
    "    k_y_vali = y_train[vali_index]\n",
    "    cb_params = {\n",
    "         'n_estimators': 100000,\n",
    "         'loss_function': 'RMSE',\n",
    "         'eval_metric':'RMSE',\n",
    "         'learning_rate': 0.05,\n",
    "         'depth': 4,\n",
    "         'use_best_model': True,\n",
    "         'subsample': 0.6,\n",
    "         'bootstrap_type': 'Bernoulli',\n",
    "         'reg_lambda': 3\n",
    "    }\n",
    "    model_cb = CatBoostRegressor(**cb_params)\n",
    "    #train the model\n",
    "    model_cb.fit(k_x_train, k_y_train,eval_set=[(k_x_vali, k_y_vali)],verbose=100,early_stopping_rounds=50)\n",
    "    oof_cb[vali_index] = model_cb.predict(k_x_vali, ntree_end=model_cb.best_iteration_)\n",
    "    predictions_cb += model_cb.predict(X_test, ntree_end=model_cb.best_iteration_) / kfolder.n_splits\n",
    "print(\"CV score: {:<8.8f}\".format(mean_squared_error(oof_cb, y_train)))\n"
   ]
  },
  {
   "cell_type": "code",
   "execution_count": 64,
   "metadata": {},
   "outputs": [
    {
     "name": "stdout",
     "output_type": "stream",
     "text": [
      "fold 0\n",
      "fold 1\n",
      "fold 2\n",
      "fold 3\n",
      "fold 4\n",
      "fold 5\n",
      "fold 6\n",
      "fold 7\n",
      "fold 8\n",
      "fold 9\n",
      "CV score: 0.45887818\n"
     ]
    }
   ],
   "source": [
    "##模型融合\n",
    "from sklearn.model_selection import KFold, RepeatedKFold\n",
    "from sklearn import linear_model\n",
    "# 将lgb和xgb和ctb的结果进行stacking 三模型融合 \n",
    "# train_stack = np.vstack([oof_lgb,oof_xgb,oof_cb]).transpose()\n",
    "# test_stack = np.vstack([predictions_lgb, predictions_xgb,predictions_cb]).transpose()\n",
    "# 两模型融合 lgb和xgb 这个组合效果很好 0.46477 现在为 0.46372 -0.46345\n",
    "train_stack = np.vstack([oof_lgb,oof_xgb]).transpose()\n",
    "test_stack = np.vstack([predictions_lgb,predictions_xgb]).transpose()\n",
    "# 两模型融合 xgb和cb 这个组合不行\n",
    "# train_stack = np.vstack([oof_cb,oof_xgb]).transpose()\n",
    "# test_stack = np.vstack([predictions_cb,predictions_xgb]).transpose()\n",
    "# 两模型融合 lgb和cb 这个组合 不行\n",
    "# train_stack = np.vstack([oof_cb,oof_lgb]).transpose()\n",
    "# test_stack = np.vstack([predictions_cb,predictions_lgb]).transpose()\n",
    "# 融合的话 就直接该参数就可以了 这样\n",
    "# 我们 用 lgb cb predict_Lasso\n",
    "folds_stack = RepeatedKFold(n_splits=5, n_repeats=2, random_state=2018)\n",
    "oof_stack = np.zeros(train_stack.shape[0])\n",
    "predictions = np.zeros(test_stack.shape[0])\n",
    "\n",
    "for fold_, (trn_idx, val_idx) in enumerate(folds_stack.split(train_stack,y_train)):\n",
    "    print(\"fold {}\".format(fold_))\n",
    "    trn_data, trn_y = train_stack[trn_idx], y_train[trn_idx]\n",
    "    val_data, val_y = train_stack[val_idx], y_train[val_idx]\n",
    "    \n",
    "    clf_3 = linear_model.BayesianRidge()\n",
    "    #clf_3 =linear_model.Ridge()\n",
    "    clf_3.fit(trn_data, trn_y)\n",
    "    \n",
    "    oof_stack[val_idx] = clf_3.predict(val_data)\n",
    "    predictions += clf_3.predict(test_stack) / 10\n",
    "    \n",
    "print(\"CV score: {:<8.8f}\".format(mean_squared_error(oof_stack, y_train)))"
   ]
  },
  {
   "cell_type": "code",
   "execution_count": 65,
   "metadata": {},
   "outputs": [],
   "source": [
    "test_sub=pd.read_csv(\"happiness_submit.csv\",encoding='ansi')\n",
    "result=list(predictions)\n",
    "test_sub[\"happiness\"]=result\n",
    "test_sub.to_csv(\"happiness_submit.csv\", index=False)"
   ]
  },
  {
   "cell_type": "code",
   "execution_count": null,
   "metadata": {},
   "outputs": [],
   "source": []
  },
  {
   "cell_type": "code",
   "execution_count": null,
   "metadata": {},
   "outputs": [],
   "source": []
  },
  {
   "cell_type": "code",
   "execution_count": null,
   "metadata": {},
   "outputs": [],
   "source": []
  },
  {
   "cell_type": "code",
   "execution_count": null,
   "metadata": {},
   "outputs": [],
   "source": []
  },
  {
   "cell_type": "code",
   "execution_count": null,
   "metadata": {},
   "outputs": [],
   "source": []
  },
  {
   "cell_type": "code",
   "execution_count": null,
   "metadata": {},
   "outputs": [],
   "source": []
  },
  {
   "cell_type": "code",
   "execution_count": null,
   "metadata": {},
   "outputs": [],
   "source": []
  }
 ],
 "metadata": {
  "kernelspec": {
   "display_name": "Python 3",
   "language": "python",
   "name": "python3"
  },
  "language_info": {
   "codemirror_mode": {
    "name": "ipython",
    "version": 3
   },
   "file_extension": ".py",
   "mimetype": "text/x-python",
   "name": "python",
   "nbconvert_exporter": "python",
   "pygments_lexer": "ipython3",
   "version": "3.6.7"
  }
 },
 "nbformat": 4,
 "nbformat_minor": 2
}
